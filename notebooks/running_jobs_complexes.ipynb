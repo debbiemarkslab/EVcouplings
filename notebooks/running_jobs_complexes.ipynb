{
 "cells": [
  {
   "cell_type": "markdown",
   "metadata": {},
   "source": [
    "# Running EVcouplings complex pipeline jobs\n",
    "\n",
    "## Content\n",
    "\n",
    "This notebook demonstrates how to run EVcouplings for heteromultimeric complex predictions by specifying the job settings in a configuration file and then executing it using the EVcouplings command line applications."
   ]
  },
  {
   "cell_type": "markdown",
   "metadata": {},
   "source": [
    "## Configuration files\n",
    "\n",
    "Config file drives all aspects of the pipeline (which query proteins, and which parameters like bitscore thresholds, databases etc.). The config files are in computable YAML format (see below for example how to modify it programmatically).\n",
    "\n",
    "> For an example configuration file, see config/sample_config_complexes.txt in this repository.\n",
    "\n",
    "### Parameters that might need to be modified (non-exhaustive):\n",
    "\n",
    "The following parameters are the most important ones to consider modifying when running your job:\n",
    "\n",
    "1) In “global” section:\n",
    "* prefix (includes output folder, anything after last “/” will be prefix of filenames, folders are made automatically), e.g. output/run4/PhoP_PhoQ would create subfolders output/run4/ in current directory and then filenames would start with PhoP_PhoQ.\n",
    "\n",
    "2) In \"align_1\" and \"align_2\" section:\n",
    "* alignment_protocol: choose either 'existing' to use an input alignment or 'standard' to generate an alignment\n",
    "using the monomer alignment protocol (see notebooks/running_jobs_monomers.ipynb for more explanation)\n",
    "* input_alignment: input alignment file, requried for 'existing' alignment protocol\n",
    "* override_annotation_file: input annotation file, suggested for 'existing' alignment protocol. This will override the annotations generated when postprocessing the input_alignment, which may be incomplete depending on the alignment format\n",
    "* sequence_id: uniprot identifier of sequence to run\n",
    "* region: region of sequence to run, leave blank for full sequence\n",
    "* domain_threshold (bitscore or evalue): domain inclusion threshold for alignment\n",
    "* sequence_threshold: typically should be the same as domain_threshold\n",
    "\n",
    "3) in \"concatenate\" section:\n",
    "* protocol: currently two procols are available, will either pair sequences by closest reciprocal distance on the genome (genome_distance) or by best hit to the target sequence for each genome (best_hit)\n",
    "* minimum_sequence_coverage (formerly called \"-f\" in buildali)\n",
    "* minimum_column_coverage (formerly called \"-m\" in buildali, but now the other way round: -m 30 corresponds to minimum_column_coverage=70)\n",
    "\n",
    "4) in \"couplings\" section:\n",
    "* theta (note that this is 1 - theta is used so far in pipelines, e.g. this pipeline uses 0.8 rather than 0.2 to cluster at 80% sequence identity)\n",
    "* iterations: how many plmc iterations to run\n",
    "* ignore_gaps: exclude gaps from EC calculation\n",
    "* save_model: save binary file with model parameters or not\n",
    "* scoring: Scoring model to assess confidence in computed ECs\n",
    "* use_all_ecs_for_scoring: if True, will run the scoring model on the ECs, both inter and intra, simulataneously\n",
    "\n",
    "5) in \"compare\" section:\n",
    "\n",
    "Note: arguments with the prefix \"first\" apply to the first monomer, argument with prefix \"second\" apply to second monomer. The general uses are explained here, but need to be set independently for each monomer\n",
    "* by_alignment: If True, structures for comparison will be identified by homology search; otherwise use only structures for given sequence_id (must be UniProt ID or AC)\n",
    "* pdb_ids: Used if by_alignment is False. If pdb_ids is None, compares to all PDB structures for given sequence_id. If list of PDB IDs, compare to that subset of structures only.\n",
    "* compare_multimer: Besides intra-chain contacts, also identify homomultimer contacts and use in evaluation.\n",
    "* distance_cutoff: Maximum distance for a residue pair to be considered as a contact\n",
    "* min_sequence_distance: Only use pairs that are at least this distant in sequence for evaluation\n",
    "\n",
    "### Configuration rules\n",
    "\n",
    "Configuration files are handled internally according to the following rules:\n",
    "\n",
    "1) Global settings override settings of the same name for stages\n",
    "\n",
    "2) Outputs of a stage are merged into \"global\" and fed into input of subsequent stages. This allows results to be passed on from stage to stage.\n",
    "\n",
    "3) All settings are explicitly specified in the configuration. No hidden defaults in code.\n",
    "\n",
    "4) Each stage is also passed the databases and tools sections\n",
    "\n",
    "\n",
    "### Batch jobs\n",
    "\n",
    "Currently not available for complexes pipeline\n",
    "\n",
    "### Modifying the config file from within Python:\n",
    "\n",
    "The configuration files used by EVcouplings are standard YAML files that directly translate to standard data structures such as lists and dictionaries. This means that configuration files can be easily loaded, modified programmatically (e.g. when running large amounts of jobs), and stored to file again.\n",
    "\n",
    "Also, the output state after running a pipeline is stored in YAML files, which means the results can be easily accessed and passed on to other code."
   ]
  },
  {
   "cell_type": "code",
   "execution_count": 1,
   "metadata": {
    "collapsed": false
   },
   "outputs": [],
   "source": [
    "from evcouplings.utils import read_config_file, write_config_file\n",
    "\n",
    "config = read_config_file(\"../config/sample_config_complex.txt\", preserve_order=True)\n",
    "config[\"global\"][\"prefix\"] = \"output/complex_test\"\n",
    "config[\"align_1\"][\"sequence_id\"] = \"RASH_HUMAN\"\n",
    "config[\"align_1\"][\"domain_threshold\"] = 0.5\n",
    "\n",
    "write_config_file(\"test_config.txt\", config)"
   ]
  },
  {
   "cell_type": "markdown",
   "metadata": {},
   "source": [
    "## Running the pipeline\n",
    "\n",
    "EVcouplings provides three ways of executing configuration files. The applications *evcouplings_runcfg* and *evcouplings* will be created automatically and put on your PATH when installing the Python package (i.e. they should be available from any directory):\n",
    "\n",
    "### evcouplings_runcfg\n",
    "\n",
    "Execute a single configuration file (this will ignore the \"batch\" section and runs a *single* thread of the pipeline):\n",
    "\n",
    "```bash\n",
    "evcouplings_runcfg <config_file>\n",
    "```\n",
    "\n",
    "If running in a batch computing environment, the user is responsible for submitting jobs etc.\n",
    "\n",
    "### evcouplings\n",
    "\n",
    "This is a wrapper around *evcouplings_runcfg* which provides the three major additional functions:\n",
    "* for convenience, overwrite parameters in a config file using command line flags (e.g. to simply change proteins or specify a list of E-value thresholds)\n",
    "* execute batch jobs (e.g. for scanning different evolutionary depths)\n",
    "\n",
    "Running evcouplings requires to specify the \"environment\" section in the configuration file. Currently, we only support local execution using multithreading, and LSF. If you need another environment (e.g. SGE, Torque or Slurm), please consider implementing it and submit a pull request!\n",
    "\n",
    "For a list of the available command line arguments, please run\n",
    "\n",
    "```bash\n",
    "evcouplings --help\n",
    "```\n",
    "\n",
    "To run a config file, execute:\n",
    "\n",
    "```bash\n",
    "evcouplings [options] <config_file>\n",
    "```\n",
    "\n",
    "### Running pipeline from within Python\n",
    "\n",
    "Configuration files can also be directly run from within Python:"
   ]
  },
  {
   "cell_type": "code",
   "execution_count": 2,
   "metadata": {
    "collapsed": false
   },
   "outputs": [
    {
     "ename": "ResourceError",
     "evalue": "Input file does not exist or is empty:\n/groups/marks/databases/jackhmmer/uniref100/uniref100_2017_04.fasta",
     "output_type": "error",
     "traceback": [
      "\u001b[0;31m---------------------------------------------------------------------------\u001b[0m",
      "\u001b[0;31mResourceError\u001b[0m                             Traceback (most recent call last)",
      "\u001b[0;32m<ipython-input-2-fb92415b2c5a>\u001b[0m in \u001b[0;36m<module>\u001b[0;34m()\u001b[0m\n\u001b[1;32m      3\u001b[0m \u001b[0;34m\u001b[0m\u001b[0m\n\u001b[1;32m      4\u001b[0m \u001b[0mconfig\u001b[0m \u001b[0;34m=\u001b[0m \u001b[0mread_config_file\u001b[0m\u001b[0;34m(\u001b[0m\u001b[0;34m\"test_config.txt\"\u001b[0m\u001b[0;34m)\u001b[0m\u001b[0;34m\u001b[0m\u001b[0m\n\u001b[0;32m----> 5\u001b[0;31m \u001b[0moutcfg\u001b[0m \u001b[0;34m=\u001b[0m \u001b[0mexecute\u001b[0m\u001b[0;34m(\u001b[0m\u001b[0;34m**\u001b[0m\u001b[0mconfig\u001b[0m\u001b[0;34m)\u001b[0m\u001b[0;34m\u001b[0m\u001b[0m\n\u001b[0m",
      "\u001b[0;32m/Users/AG/marks_lab_scripts/EVcouplings/evcouplings/utils/pipeline.py\u001b[0m in \u001b[0;36mexecute\u001b[0;34m(**config)\u001b[0m\n\u001b[1;32m    172\u001b[0m \u001b[0;34m\u001b[0m\u001b[0m\n\u001b[1;32m    173\u001b[0m             \u001b[0;31m# run stage\u001b[0m\u001b[0;34m\u001b[0m\u001b[0;34m\u001b[0m\u001b[0m\n\u001b[0;32m--> 174\u001b[0;31m             \u001b[0moutcfg\u001b[0m \u001b[0;34m=\u001b[0m \u001b[0mrunner\u001b[0m\u001b[0;34m(\u001b[0m\u001b[0;34m**\u001b[0m\u001b[0mincfg\u001b[0m\u001b[0;34m)\u001b[0m\u001b[0;34m\u001b[0m\u001b[0m\n\u001b[0m\u001b[1;32m    175\u001b[0m \u001b[0;34m\u001b[0m\u001b[0m\n\u001b[1;32m    176\u001b[0m             \u001b[0;31m# prefix output keys if this parameter is\u001b[0m\u001b[0;34m\u001b[0m\u001b[0;34m\u001b[0m\u001b[0m\n",
      "\u001b[0;32m/Users/AG/marks_lab_scripts/EVcouplings/evcouplings/align/protocol.py\u001b[0m in \u001b[0;36mrun\u001b[0;34m(**kwargs)\u001b[0m\n\u001b[1;32m   1229\u001b[0m         )\n\u001b[1;32m   1230\u001b[0m \u001b[0;34m\u001b[0m\u001b[0m\n\u001b[0;32m-> 1231\u001b[0;31m     \u001b[0;32mreturn\u001b[0m \u001b[0mPROTOCOLS\u001b[0m\u001b[0;34m[\u001b[0m\u001b[0mkwargs\u001b[0m\u001b[0;34m[\u001b[0m\u001b[0;34m\"protocol\"\u001b[0m\u001b[0;34m]\u001b[0m\u001b[0;34m]\u001b[0m\u001b[0;34m(\u001b[0m\u001b[0;34m**\u001b[0m\u001b[0mkwargs\u001b[0m\u001b[0;34m)\u001b[0m\u001b[0;34m\u001b[0m\u001b[0m\n\u001b[0m",
      "\u001b[0;32m/Users/AG/marks_lab_scripts/EVcouplings/evcouplings/align/protocol.py\u001b[0m in \u001b[0;36mcomplex\u001b[0;34m(**kwargs)\u001b[0m\n\u001b[1;32m   1124\u001b[0m         )\n\u001b[1;32m   1125\u001b[0m \u001b[0;34m\u001b[0m\u001b[0m\n\u001b[0;32m-> 1126\u001b[0;31m     \u001b[0moutcfg\u001b[0m \u001b[0;34m=\u001b[0m \u001b[0mPROTOCOLS\u001b[0m\u001b[0;34m[\u001b[0m\u001b[0mkwargs\u001b[0m\u001b[0;34m[\u001b[0m\u001b[0;34m\"alignment_protocol\"\u001b[0m\u001b[0;34m]\u001b[0m\u001b[0;34m]\u001b[0m\u001b[0;34m(\u001b[0m\u001b[0;34m**\u001b[0m\u001b[0mkwargs\u001b[0m\u001b[0;34m)\u001b[0m\u001b[0;34m\u001b[0m\u001b[0m\n\u001b[0m\u001b[1;32m   1127\u001b[0m \u001b[0;34m\u001b[0m\u001b[0m\n\u001b[1;32m   1128\u001b[0m     \u001b[0;31m# If the users selected the existing alignment protocol\u001b[0m\u001b[0;34m\u001b[0m\u001b[0;34m\u001b[0m\u001b[0m\n",
      "\u001b[0;32m/Users/AG/marks_lab_scripts/EVcouplings/evcouplings/align/protocol.py\u001b[0m in \u001b[0;36mstandard\u001b[0;34m(**kwargs)\u001b[0m\n\u001b[1;32m   1031\u001b[0m     \u001b[0;31m# jackhmmer; initialize output configuration with\u001b[0m\u001b[0;34m\u001b[0m\u001b[0;34m\u001b[0m\u001b[0m\n\u001b[1;32m   1032\u001b[0m     \u001b[0;31m# results of this search\u001b[0m\u001b[0;34m\u001b[0m\u001b[0;34m\u001b[0m\u001b[0m\n\u001b[0;32m-> 1033\u001b[0;31m     \u001b[0mjackhmmer_outcfg\u001b[0m \u001b[0;34m=\u001b[0m \u001b[0mjackhmmer_search\u001b[0m\u001b[0;34m(\u001b[0m\u001b[0;34m**\u001b[0m\u001b[0mkwargs\u001b[0m\u001b[0;34m)\u001b[0m\u001b[0;34m\u001b[0m\u001b[0m\n\u001b[0m\u001b[1;32m   1034\u001b[0m     \u001b[0mstockholm_file\u001b[0m \u001b[0;34m=\u001b[0m \u001b[0mjackhmmer_outcfg\u001b[0m\u001b[0;34m[\u001b[0m\u001b[0;34m\"raw_alignment_file\"\u001b[0m\u001b[0;34m]\u001b[0m\u001b[0;34m\u001b[0m\u001b[0m\n\u001b[1;32m   1035\u001b[0m \u001b[0;34m\u001b[0m\u001b[0m\n",
      "\u001b[0;32m/Users/AG/marks_lab_scripts/EVcouplings/evcouplings/align/protocol.py\u001b[0m in \u001b[0;36mjackhmmer_search\u001b[0;34m(**kwargs)\u001b[0m\n\u001b[1;32m    939\u001b[0m             \u001b[0mcheckpoints_hmm\u001b[0m\u001b[0;34m=\u001b[0m\u001b[0mkwargs\u001b[0m\u001b[0;34m[\u001b[0m\u001b[0;34m\"checkpoints_hmm\"\u001b[0m\u001b[0;34m]\u001b[0m\u001b[0;34m,\u001b[0m\u001b[0;34m\u001b[0m\u001b[0m\n\u001b[1;32m    940\u001b[0m             \u001b[0mcheckpoints_ali\u001b[0m\u001b[0;34m=\u001b[0m\u001b[0mkwargs\u001b[0m\u001b[0;34m[\u001b[0m\u001b[0;34m\"checkpoints_ali\"\u001b[0m\u001b[0;34m]\u001b[0m\u001b[0;34m,\u001b[0m\u001b[0;34m\u001b[0m\u001b[0m\n\u001b[0;32m--> 941\u001b[0;31m             \u001b[0mbinary\u001b[0m\u001b[0;34m=\u001b[0m\u001b[0mkwargs\u001b[0m\u001b[0;34m[\u001b[0m\u001b[0;34m\"jackhmmer\"\u001b[0m\u001b[0;34m]\u001b[0m\u001b[0;34m,\u001b[0m\u001b[0;34m\u001b[0m\u001b[0m\n\u001b[0m\u001b[1;32m    942\u001b[0m         )\n\u001b[1;32m    943\u001b[0m \u001b[0;34m\u001b[0m\u001b[0m\n",
      "\u001b[0;32m/Users/AG/marks_lab_scripts/EVcouplings/evcouplings/align/tools.py\u001b[0m in \u001b[0;36mrun_jackhmmer\u001b[0;34m(query, database, prefix, use_bitscores, domain_threshold, seq_threshold, iterations, nobias, cpu, stdout_redirect, checkpoints_hmm, checkpoints_ali, binary)\u001b[0m\n\u001b[1;32m     75\u001b[0m     verify_resources(\n\u001b[1;32m     76\u001b[0m         \u001b[0;34m\"Input file does not exist or is empty\"\u001b[0m\u001b[0;34m,\u001b[0m\u001b[0;34m\u001b[0m\u001b[0m\n\u001b[0;32m---> 77\u001b[0;31m         \u001b[0mquery\u001b[0m\u001b[0;34m,\u001b[0m \u001b[0mdatabase\u001b[0m\u001b[0;34m\u001b[0m\u001b[0m\n\u001b[0m\u001b[1;32m     78\u001b[0m     )\n\u001b[1;32m     79\u001b[0m \u001b[0;34m\u001b[0m\u001b[0m\n",
      "\u001b[0;32m/Users/AG/marks_lab_scripts/EVcouplings/evcouplings/utils/system.py\u001b[0m in \u001b[0;36mverify_resources\u001b[0;34m(message, *args)\u001b[0m\n\u001b[1;32m    127\u001b[0m     \u001b[0;32mif\u001b[0m \u001b[0mlen\u001b[0m\u001b[0;34m(\u001b[0m\u001b[0minvalid\u001b[0m\u001b[0;34m)\u001b[0m \u001b[0;34m>\u001b[0m \u001b[0;36m0\u001b[0m\u001b[0;34m:\u001b[0m\u001b[0;34m\u001b[0m\u001b[0m\n\u001b[1;32m    128\u001b[0m         raise ResourceError(\n\u001b[0;32m--> 129\u001b[0;31m             \u001b[0;34m\"{}:\\n{}\"\u001b[0m\u001b[0;34m.\u001b[0m\u001b[0mformat\u001b[0m\u001b[0;34m(\u001b[0m\u001b[0mmessage\u001b[0m\u001b[0;34m,\u001b[0m \u001b[0;34m\", \"\u001b[0m\u001b[0;34m.\u001b[0m\u001b[0mjoin\u001b[0m\u001b[0;34m(\u001b[0m\u001b[0minvalid\u001b[0m\u001b[0;34m)\u001b[0m\u001b[0;34m)\u001b[0m\u001b[0;34m\u001b[0m\u001b[0m\n\u001b[0m\u001b[1;32m    130\u001b[0m         )\n\u001b[1;32m    131\u001b[0m     \u001b[0;32melse\u001b[0m\u001b[0;34m:\u001b[0m\u001b[0;34m\u001b[0m\u001b[0m\n",
      "\u001b[0;31mResourceError\u001b[0m: Input file does not exist or is empty:\n/groups/marks/databases/jackhmmer/uniref100/uniref100_2017_04.fasta"
     ]
    }
   ],
   "source": [
    "from evcouplings.utils import read_config_file\n",
    "from evcouplings.utils.pipeline import execute\n",
    "\n",
    "config = read_config_file(\"test_config.txt\")\n",
    "# outcfg = execute(**config)"
   ]
  },
  {
   "cell_type": "code",
   "execution_count": null,
   "metadata": {
    "collapsed": true
   },
   "outputs": [],
   "source": []
  }
 ],
 "metadata": {
  "anaconda-cloud": {},
  "kernelspec": {
   "display_name": "Python [conda env:python3]",
   "language": "python",
   "name": "conda-env-python3-py"
  },
  "language_info": {
   "codemirror_mode": {
    "name": "ipython",
    "version": 3
   },
   "file_extension": ".py",
   "mimetype": "text/x-python",
   "name": "python",
   "nbconvert_exporter": "python",
   "pygments_lexer": "ipython3",
   "version": "3.5.2"
  }
 },
 "nbformat": 4,
 "nbformat_minor": 2
}
